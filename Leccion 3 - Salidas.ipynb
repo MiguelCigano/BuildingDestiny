{
 "cells": [
  {
   "attachments": {},
   "cell_type": "markdown",
   "metadata": {},
   "source": [
    "# Screen output\n",
    "The function prnt() this is general form to show information on the screen, we can show text and variable separating with commas:"
   ]
  },
  {
   "cell_type": "code",
   "execution_count": 1,
   "metadata": {},
   "outputs": [
    {
     "name": "stdout",
     "output_type": "stream",
     "text": [
      "un texto otro texto y un número 10\n"
     ]
    }
   ],
   "source": [
    "v = \"otro texto\"\n",
    "n = 10\n",
    "print(\"un texto\", v, \"y un número\", n)"
   ]
  },
  {
   "attachments": {},
   "cell_type": "markdown",
   "metadata": {},
   "source": [
    "# .format()"
   ]
  },
  {
   "cell_type": "code",
   "execution_count": 12,
   "metadata": {},
   "outputs": [
    {
     "name": "stdout",
     "output_type": "stream",
     "text": [
      "dime cuál es nombre de Miguel, por favor\n"
     ]
    }
   ],
   "source": [
    "c = \"Miguel\"\n",
    "print(\"dime cuál es nombre de {0}, por favor\".format(c))"
   ]
  },
  {
   "attachments": {},
   "cell_type": "markdown",
   "metadata": {},
   "source": [
    "# f-strings"
   ]
  },
  {
   "cell_type": "code",
   "execution_count": 19,
   "metadata": {},
   "outputs": [
    {
     "name": "stdout",
     "output_type": "stream",
     "text": [
      "2\n",
      "la suma de 2 y 5 es 7\n"
     ]
    }
   ],
   "source": [
    "a, b = 2, 5\n",
    "print(a)\n",
    "print(f\"la suma de {a} y {b} es {a+b}\")"
   ]
  },
  {
   "cell_type": "code",
   "execution_count": 20,
   "metadata": {},
   "outputs": [
    {
     "name": "stdout",
     "output_type": "stream",
     "text": [
      "Hello\n"
     ]
    }
   ],
   "source": [
    "def Saludar():\n",
    "    return \"Hello\"\n",
    "\n",
    "print(f\"{Saludar()}\")"
   ]
  },
  {
   "attachments": {},
   "cell_type": "markdown",
   "metadata": {},
   "source": [
    "f-string para diccionarios"
   ]
  },
  {
   "cell_type": "code",
   "execution_count": 23,
   "metadata": {},
   "outputs": [
    {
     "name": "stdout",
     "output_type": "stream",
     "text": [
      "la edad de Miguel es: 30\n"
     ]
    }
   ],
   "source": [
    "num = {\"Manuel\":10, \"Ale\":20, \"Miguel\":30}\n",
    "print(f\"la edad de Miguel es: {num['Miguel']}\")"
   ]
  }
 ],
 "metadata": {
  "kernelspec": {
   "display_name": "rl_control",
   "language": "python",
   "name": "python3"
  },
  "language_info": {
   "codemirror_mode": {
    "name": "ipython",
    "version": 3
   },
   "file_extension": ".py",
   "mimetype": "text/x-python",
   "name": "python",
   "nbconvert_exporter": "python",
   "pygments_lexer": "ipython3",
   "version": "3.8.12"
  },
  "vscode": {
   "interpreter": {
    "hash": "304d6ab81d5a1ac82cf9c41e95a6af2f960170d1949dd28606af8f564a3bb48c"
   }
  }
 },
 "nbformat": 4,
 "nbformat_minor": 0
}
